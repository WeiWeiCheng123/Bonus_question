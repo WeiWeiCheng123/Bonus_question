{
 "cells": [
  {
   "cell_type": "markdown",
   "source": [
    "<h1>Bonus 2  M11007309 鄭維新<h1>\r\n",
    "\r\n",
    "<h3>在程式中我先用了Python的爬蟲去抓取FB社團內成員的名子\r\n",
    "然後再對教授提供的資料去進行操作<h3>\r\n",
    "<h3>因為要爬資訊，所以執行上可能會有一點久(不超過1分鐘)，程式執行到最後會輸出一個EXCEL，裡面就包含了教授要求的三個問題<h3>\r\n",
    "<h3>Note : 這次程式如果FB是英文名稱的話會無法去辨識 <h3>"
   ],
   "metadata": {}
  },
  {
   "cell_type": "code",
   "execution_count": 42,
   "source": [
    "# 爬取fb社團成員\r\n",
    "from selenium import webdriver\r\n",
    "from selenium.webdriver.common.by import By\r\n",
    "from selenium.webdriver.support.ui import WebDriverWait\r\n",
    "from selenium.webdriver.support import expected_conditions as EC\r\n",
    "from selenium.webdriver.common.keys import Keys\r\n",
    "import time\r\n",
    "import os\r\n",
    "import wget\r\n",
    "import pandas as pd"
   ],
   "outputs": [],
   "metadata": {}
  },
  {
   "cell_type": "code",
   "execution_count": 43,
   "source": [
    "#open facebook\r\n",
    "PATH = \"chromedriver.exe\"\r\n",
    "driver = webdriver.Chrome(PATH)\r\n",
    "driver.get(\"https://www.facebook.com/groups/189644259942426/members\")\r\n",
    "\r\n",
    "\"\"\"\r\n",
    "使用chromedriver需要注意版號，需要測試請查看自己的chrome版本後到 https://chromedriver.chromium.org/downloads 找到對應自己版號的chromedriver進行下載\r\n",
    "路徑也要自行設定，可以跟程式放在同一個資料夾\r\n",
    "\"\"\""
   ],
   "outputs": [
    {
     "output_type": "execute_result",
     "data": {
      "text/plain": [
       "'\\n使用chromedriver需要注意版號，需要測試請查看自己的chrome版本後到 https://chromedriver.chromium.org/downloads 找到對應自己版號的chromedriver進行下載\\n路徑也要自行設定，可以跟程式放在同一個資料夾\\n'"
      ]
     },
     "metadata": {},
     "execution_count": 43
    }
   ],
   "metadata": {}
  },
  {
   "cell_type": "code",
   "execution_count": 44,
   "source": [
    "#login to facebook\r\n",
    "username = WebDriverWait(driver, 10).until(\r\n",
    "    EC.presence_of_element_located((By.NAME, \"email\"))\r\n",
    ")\r\n",
    "password = WebDriverWait(driver, 10).until(\r\n",
    "    EC.presence_of_element_located((By.NAME, \"pass\"))\r\n",
    ")\r\n",
    "login = driver.find_element_by_xpath('//*[@id=\"loginbutton\"]')\r\n",
    "\r\n",
    "username.clear()\r\n",
    "password.clear()\r\n",
    "username.send_keys('FB帳號')\r\n",
    "password.send_keys('FB密碼')\r\n",
    "login.click()\r\n",
    "\r\n",
    "time.sleep(20)\r\n",
    "homepage = driver.find_element(By.ID, 'facebook')\r\n",
    "webdriver.ActionChains(driver).click(homepage).perform()"
   ],
   "outputs": [],
   "metadata": {}
  },
  {
   "cell_type": "code",
   "execution_count": 45,
   "source": [
    "#Get fb member numbers\r\n",
    "member_title = driver.find_element_by_class_name('rq0escxv.l9j0dhe7.du4w35lb.j83agx80.pfnyh3mw.jifvfom9.bp9cbjyn.lhclo0ds.btwxx1t3.jb3vyjys.nkwizq5d.roh60bw9.scwd0bx6.hop8lmos')\r\n",
    "member_title_elements = member_title.find_elements(By.TAG_NAME, 'div')\r\n",
    "member_text = str(member_title_elements[5].text)\r\n",
    "member_number = int(member_text.replace(\" members\",\"\"))"
   ],
   "outputs": [
    {
     "output_type": "stream",
     "name": "stdout",
     "text": [
      "54\n"
     ]
    }
   ],
   "metadata": {}
  },
  {
   "cell_type": "code",
   "execution_count": 46,
   "source": [
    "#scroll down to load more page\r\n",
    "for i in range(10):\r\n",
    "    driver.execute_script(\"window.scrollTo(0, document.body.scrollHeight);\")\r\n",
    "    time.sleep(2)"
   ],
   "outputs": [],
   "metadata": {}
  },
  {
   "cell_type": "code",
   "execution_count": 47,
   "source": [
    "#get all members in group\r\n",
    "fb_member_list = []\r\n",
    "for i in range(1,member_number+1):\r\n",
    "    member_xpath = \"/html/body/div[1]/div/div[1]/div/div[3]/div/div/div[1]/div[1]/div[4]/div/div/div/div/div/div/div/div/div/div/div[2]/div[12]/div/div[2]/div/div[\"+str(i)+\"]/div/div/div[2]/div[1]/div/div/div[1]/span/span/span/a\"\r\n",
    "    fb_member_list.append(driver.find_element_by_xpath(member_xpath).text)\r\n",
    "fb_member_list.sort()\r\n",
    "fb_member_list.remove('Sheng-Luen Chung') #移除教授的名子，因為教授不是學生"
   ],
   "outputs": [],
   "metadata": {}
  },
  {
   "cell_type": "code",
   "execution_count": 48,
   "source": [
    "file = r'1101_EE5327701_4242_1006.xls'\r\n",
    "df = pd.read_excel(file)\r\n",
    "register_list = list(df['姓名'])\r\n",
    "register_list.sort()"
   ],
   "outputs": [],
   "metadata": {}
  },
  {
   "cell_type": "code",
   "execution_count": 49,
   "source": [
    "register_list?"
   ],
   "outputs": [
    {
     "output_type": "stream",
     "name": "stdout",
     "text": [
      "\u001b[1;31mType:\u001b[0m        list\n",
      "\u001b[1;31mString form:\u001b[0m ['侯宏林', '劉冠甫', '劉錕笙', '吳芊瑩', '廖英廷', '張仕嘉', '張凱鈞', '張嘉瑩', '張詠勝', '曾家威', '朱揚傑', '李榮昌', '李汭璇', '李秉和' <...> '邱博宏', '邱心漁', '郭仲瑾', '郭威霆', '鄭維新', '陳冠宇', '陳威澤', '陳學勤', '陳文祥', '陳苡昕', '陳靜萱', '韓宗翰', '黃旭輝', '黃翔莉']\n",
      "\u001b[1;31mLength:\u001b[0m      42\n",
      "\u001b[1;31mDocstring:\u001b[0m  \n",
      "Built-in mutable sequence.\n",
      "\n",
      "If no argument is given, the constructor creates a new empty list.\n",
      "The argument must be an iterable if specified.\n"
     ]
    }
   ],
   "metadata": {}
  },
  {
   "cell_type": "code",
   "execution_count": 50,
   "source": [
    "fb_member_list?"
   ],
   "outputs": [
    {
     "output_type": "stream",
     "name": "stdout",
     "text": [
      "\u001b[1;31mType:\u001b[0m        list\n",
      "\u001b[1;31mString form:\u001b[0m ['Bread Chen', 'CF Chien', 'Eric Tsai', 'Jinde Lin', 'Joseph Wu', 'Karen Chow', 'Kuan-yu Chen', ' <...> '邱心漁', '郭仲瑾', '郭威霆', '鄭維新', '陳威澤', '陳廷嘉', '陳文祥', '陳柏華', '陳苡昕', '陳靜萱', '韓宗翰', '高郁芩', '黃旭輝', '黃翔莉']\n",
      "\u001b[1;31mLength:\u001b[0m      53\n",
      "\u001b[1;31mDocstring:\u001b[0m  \n",
      "Built-in mutable sequence.\n",
      "\n",
      "If no argument is given, the constructor creates a new empty list.\n",
      "The argument must be an iterable if specified.\n"
     ]
    }
   ],
   "metadata": {}
  },
  {
   "cell_type": "code",
   "execution_count": 51,
   "source": [
    "all_member = [] #將fb社團成員和註冊名單合併\r\n",
    "fb_not_in_register_list = [] #fb社團成員不在註冊名單內\r\n",
    "register_not_in_fb_list = [] #註冊名單不在fb社團內\r\n",
    "\r\n",
    "#將fb社團成員和註冊名單合併\r\n",
    "all_member = fb_member_list.copy()\r\n",
    "for i in range(len(register_list)):\r\n",
    "    all_member.insert(0,register_list[i])\r\n",
    "all_member.sort()\r\n",
    "set(all_member)\r\n",
    "\r\n",
    "#fb社團成員不在註冊名單內\r\n",
    "for i in range(len(fb_member_list)):\r\n",
    "    if(not fb_member_list[i] in register_list):\r\n",
    "        fb_not_in_register_list.append(fb_member_list[i])\r\n",
    "\r\n",
    "#註冊名單不在fb社團內\r\n",
    "for i in range(len(register_list)):\r\n",
    "    if(not register_list[i] in fb_member_list):\r\n",
    "        register_not_in_fb_list.append(register_list[i])"
   ],
   "outputs": [],
   "metadata": {}
  },
  {
   "cell_type": "code",
   "execution_count": 52,
   "source": [
    "#Mapping\r\n",
    "mapping_member = [[0 for x in range(len(all_member))] for y in range(2)]\r\n",
    "\r\n",
    "j = len(fb_member_list)\r\n",
    "for i in range(len(fb_member_list)):\r\n",
    "    mapping_member[0][i] = fb_member_list[i]\r\n",
    "for i in range(len(register_list)):\r\n",
    "    if(register_list[i] in fb_member_list):\r\n",
    "        mapping_member[1][fb_member_list.index(register_list[i])] = register_list[i]\r\n",
    "    else:\r\n",
    "        mapping_member[1][j] = register_list[i]\r\n",
    "        j+=1"
   ],
   "outputs": [],
   "metadata": {}
  },
  {
   "cell_type": "code",
   "execution_count": 53,
   "source": [
    "import xlsxwriter\r\n",
    "\r\n",
    "workbook = xlsxwriter.Workbook('output.xlsx')\r\n",
    "worksheet = workbook.add_worksheet()\r\n",
    "\r\n",
    "# Widen the column to make the text clearer\r\n",
    "worksheet.set_column('A:B', 20)\r\n",
    "worksheet.set_column('C:D', 30)\r\n",
    "\r\n",
    "# Write column name\r\n",
    "worksheet.write('A1', 'in FB')\r\n",
    "worksheet.write('B1', 'in registered list')\r\n",
    "worksheet.write('C1', 'Registered list not in FB group')\r\n",
    "worksheet.write('D1', 'FB member not in registered list')\r\n",
    "\r\n",
    "for i in range(len(mapping_member)):\r\n",
    "    for j in range(len(all_member)):\r\n",
    "        if (mapping_member[i][j] == 0):\r\n",
    "            worksheet.write(j+1, i, \"\")\r\n",
    "        else:\r\n",
    "            worksheet.write(j+1, i, mapping_member[i][j])\r\n",
    "\r\n",
    "for i in range(len(register_not_in_fb_list)):\r\n",
    "    worksheet.write(i+1, 2, register_not_in_fb_list[i])\r\n",
    "\r\n",
    "for i in range(len(fb_not_in_register_list)):\r\n",
    "    worksheet.write(i+1, 3, fb_not_in_register_list[i])\r\n",
    "\r\n",
    "workbook.close()"
   ],
   "outputs": [],
   "metadata": {}
  },
  {
   "cell_type": "code",
   "execution_count": 54,
   "source": [
    "\"\"\"ANSWER\"\"\"\r\n",
    "\r\n",
    "#Mapping between fb and registered list\r\n",
    "print(\"Mapping between fb and registered list\")\r\n",
    "print(mapping_member)\r\n",
    "\r\n",
    "\r\n",
    "#Registered students but have not joined this fb group\r\n",
    "print(\"Registered students but have not joined this fb group\")\r\n",
    "print(register_not_in_fb_list)\r\n",
    "\r\n",
    "\r\n",
    "#FB member but not registered in the class\r\n",
    "print(\"FB member but not registered in the class\")\r\n",
    "print(fb_not_in_register_list)\r\n"
   ],
   "outputs": [
    {
     "output_type": "stream",
     "name": "stdout",
     "text": [
      "Mapping between fb and registered list\n",
      "[['Bread Chen', 'CF Chien', 'Eric Tsai', 'Jinde Lin', 'Joseph Wu', 'Karen Chow', 'Kuan-yu Chen', 'Ren Jhang', 'Scott Chang', 'YK Tsai', '劉錕笙', '吳芊瑩', '張凱鈞', '張詠勝', '朱揚傑', '李榮昌', '李汭璇', '李秉和', '李維', '李采玨', '林妮蓁', '林芷因', '楊可東', '楊喬鈞', '楊竣崴', '沈修民', '沈育民', '洪雅玟', '潘乃聿', '王小禾', '王琪惠', '王璽鈞', '石家安', '許揚', '謝昌哲', '賴俊維', '賴嘉晟', '賴昱瑋', '邱博宏', '邱心漁', '郭仲瑾', '郭威霆', '鄭維新', '陳威澤', '陳廷嘉', '陳文祥', '陳柏華', '陳苡昕', '陳靜萱', '韓宗翰', '高郁芩', '黃旭輝', '黃翔莉', 0, 0, 0, 0, 0, 0, 0, 0, 0, 0, 0, 0, 0, 0, 0, 0, 0, 0, 0, 0, 0, 0, 0, 0, 0, 0, 0, 0, 0, 0, 0, 0, 0, 0, 0, 0, 0, 0, 0, 0, 0, 0], [0, 0, 0, 0, 0, 0, 0, 0, 0, 0, '劉錕笙', '吳芊瑩', '張凱鈞', '張詠勝', '朱揚傑', '李榮昌', '李汭璇', '李秉和', '李維', 0, 0, '林芷因', 0, 0, '楊竣崴', 0, '沈育民', '洪雅玟', '潘乃聿', '王小禾', '王琪惠', '王璽鈞', 0, 0, 0, '賴俊維', 0, 0, '邱博宏', '邱心漁', '郭仲瑾', '郭威霆', '鄭維新', '陳威澤', 0, '陳文祥', 0, '陳苡昕', '陳靜萱', '韓宗翰', 0, '黃旭輝', '黃翔莉', '侯宏林', '劉冠甫', '廖英廷', '張仕嘉', '張嘉瑩', '曾家威', '李采珏', '林晉德', '蔡卓倫', '蔡沅格', '陳冠宇', '陳學勤', 0, 0, 0, 0, 0, 0, 0, 0, 0, 0, 0, 0, 0, 0, 0, 0, 0, 0, 0, 0, 0, 0, 0, 0, 0, 0, 0, 0, 0, 0]]\n",
      "Registered students but have not joined this fb group\n",
      "['侯宏林', '劉冠甫', '廖英廷', '張仕嘉', '張嘉瑩', '曾家威', '李采珏', '林晉德', '蔡卓倫', '蔡沅格', '陳冠宇', '陳學勤']\n",
      "FB member but not registered in the class\n",
      "['Bread Chen', 'CF Chien', 'Eric Tsai', 'Jinde Lin', 'Joseph Wu', 'Karen Chow', 'Kuan-yu Chen', 'Ren Jhang', 'Scott Chang', 'YK Tsai', '李采玨', '林妮蓁', '楊可東', '楊喬鈞', '沈修民', '石家安', '許揚', '謝昌哲', '賴嘉晟', '賴昱瑋', '陳廷嘉', '陳柏華', '高郁芩']\n"
     ]
    }
   ],
   "metadata": {}
  }
 ],
 "metadata": {
  "orig_nbformat": 4,
  "language_info": {
   "name": "python",
   "version": "3.9.7",
   "mimetype": "text/x-python",
   "codemirror_mode": {
    "name": "ipython",
    "version": 3
   },
   "pygments_lexer": "ipython3",
   "nbconvert_exporter": "python",
   "file_extension": ".py"
  },
  "kernelspec": {
   "name": "python3",
   "display_name": "Python 3.9.7 64-bit"
  },
  "interpreter": {
   "hash": "4617e2f938c58cce04089e6cfece455e3dab2db4f3f92c1b0f9792c6c6d95434"
  }
 },
 "nbformat": 4,
 "nbformat_minor": 2
}