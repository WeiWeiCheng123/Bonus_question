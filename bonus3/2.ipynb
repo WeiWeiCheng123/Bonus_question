{
 "cells": [
  {
   "cell_type": "markdown",
   "metadata": {},
   "source": [
    "# M11007309 鄭維新\n",
    " 該程式使用爬蟲將主力買賣超的資料抓取下來，並且提供使用者輸入任一股票代號，\n",
    " 如輸入錯誤會跳出查無此股票代號"
   ]
  },
  {
   "cell_type": "code",
   "execution_count": 214,
   "metadata": {},
   "outputs": [],
   "source": [
    "from bs4 import BeautifulSoup\n",
    "import requests\n",
    "import numpy as np\n",
    "import pandas as pd\n",
    "from tabulate import tabulate"
   ]
  },
  {
   "cell_type": "code",
   "execution_count": 215,
   "metadata": {},
   "outputs": [
    {
     "name": "stdout",
     "output_type": "stream",
     "text": [
      "input stock number\n"
     ]
    }
   ],
   "source": [
    "# 個股主力和價格\n",
    "print(\"input stock number\")\n",
    "stock_number = input()"
   ]
  },
  {
   "cell_type": "code",
   "execution_count": 216,
   "metadata": {},
   "outputs": [],
   "source": [
    "check = requests.get(\n",
    "    \"https://tw.stock.yahoo.com/quote/\" + stock_number + \"/news\")\n",
    "if(check.ok):\n",
    "    response = requests.get(\"http://jsjustweb.jihsun.com.tw/z/zc/zco/zco_\"+stock_number+\".djhtm\")\n",
    "else:\n",
    "    print(\"查無此股票代號\")"
   ]
  },
  {
   "cell_type": "code",
   "execution_count": 217,
   "metadata": {},
   "outputs": [],
   "source": [
    "soup = BeautifulSoup(response.content, \"html.parser\")\n",
    "firms = soup.find_all('td',{'class':'t4t1'})\n",
    "datas = soup.find_all('td', {'class': 't3n1'})\n",
    "dd = soup.find_all('div', {'class': 't11'})"
   ]
  },
  {
   "cell_type": "code",
   "execution_count": 218,
   "metadata": {},
   "outputs": [],
   "source": [
    "date = dd[0].getText()[11:]\n",
    "date = date.replace(\"/\", \"_\")"
   ]
  },
  {
   "cell_type": "code",
   "execution_count": 219,
   "metadata": {},
   "outputs": [],
   "source": [
    "buy = {}\n",
    "sale = {}\n",
    "for x in range(1,int(len(firms)/2-1)):\n",
    "    buy[x] = []\n",
    "    sale[x] = []"
   ]
  },
  {
   "cell_type": "code",
   "execution_count": 220,
   "metadata": {},
   "outputs": [],
   "source": [
    "i = 1\n",
    "j = 1\n",
    "for x in firms:\n",
    "    firm = x.getText()\n",
    "    if( j %2 == 1 ):\n",
    "        buy[i].append(firm)\n",
    "        j+=1\n",
    "    else:\n",
    "        sale[i].append(firm)\n",
    "        j+=1\n",
    "        i+=1\n",
    "    if(i == len(firms)/2-1):\n",
    "        break"
   ]
  },
  {
   "cell_type": "code",
   "execution_count": 221,
   "metadata": {},
   "outputs": [],
   "source": [
    "i = 0\n",
    "j = 1\n",
    "for x in datas:\n",
    "    data = x.getText()\n",
    "    i+=1\n",
    "    if(i <= 4):\n",
    "        buy[j].append(data)\n",
    "    else:\n",
    "        sale[j].append(data)\n",
    "    if(i == 8):\n",
    "        i = 0\n",
    "        j+=1\n",
    "    if(j == 16):\n",
    "        break"
   ]
  },
  {
   "cell_type": "code",
   "execution_count": 222,
   "metadata": {},
   "outputs": [],
   "source": [
    "buy_df = pd.DataFrame.from_dict(\n",
    "    buy, orient='index', columns=['買超券商', '買進', '賣出', '買超', '佔交易比重'])\n",
    "sale_df = pd.DataFrame.from_dict(\n",
    "    sale, orient='index', columns=['賣超券商', '買進', '賣出', '賣超' , '佔交易比重'])"
   ]
  },
  {
   "cell_type": "code",
   "execution_count": 225,
   "metadata": {},
   "outputs": [
    {
     "name": "stdout",
     "output_type": "stream",
     "text": [
      "2021_11_15\n",
      "2617主力進出明細\n",
      "主力買超\n",
      "+----+----------------+--------+--------+--------+--------------+\n",
      "|    | 買超券商       |   買進 |   賣出 |   買超 | 佔交易比重   |\n",
      "|----+----------------+--------+--------+--------+--------------|\n",
      "|  1 | 瑞士信貸       |    221 |     31 |    190 | 4.16%        |\n",
      "|  2 | 摩根大通       |    203 |     47 |    156 | 3.41%        |\n",
      "|  3 | 新百王         |     80 |      5 |     75 | 1.64%        |\n",
      "|  4 | 永豐金-高雄    |     72 |      0 |     72 | 1.58%        |\n",
      "|  5 | 永豐金-中壢    |     67 |      4 |     63 | 1.38%        |\n",
      "|  6 | 兆豐-北高雄    |     63 |      3 |     60 | 1.31%        |\n",
      "|  7 | 元大-大里      |     64 |      5 |     59 | 1.29%        |\n",
      "|  8 | 永豐金-天母    |     40 |      1 |     39 | 0.85%        |\n",
      "|  9 | 國票-台南      |     35 |      0 |     35 | 0.77%        |\n",
      "| 10 | 元大-鳳山      |     45 |     10 |     35 | 0.77%        |\n",
      "| 11 | 合庫-嘉義      |     32 |      1 |     31 | 0.68%        |\n",
      "| 12 | 富隆證券       |     30 |      0 |     30 | 0.66%        |\n",
      "| 13 | 臺銀-鳳山      |     37 |      9 |     28 | 0.61%        |\n",
      "| 14 | 富邦-台中      |     29 |      1 |     28 | 0.61%        |\n",
      "| 15 | 台灣摩根士丹利 |    160 |    135 |     25 | 0.55%        |\n",
      "+----+----------------+--------+--------+--------+--------------+\n",
      "主力賣超\n",
      "+----+-----------------+--------+--------+--------+--------------+\n",
      "|    | 賣超券商        |   買進 |   賣出 |   賣超 | 佔交易比重   |\n",
      "|----+-----------------+--------+--------+--------+--------------|\n",
      "|  1 | 美商高盛        |     26 |    374 |    348 | 7.61%        |\n",
      "|  2 | 新加坡商瑞銀    |     41 |    215 |    174 | 3.81%        |\n",
      "|  3 | 華南永昌-竹北   |      0 |    106 |    106 | 2.32%        |\n",
      "|  4 | 凱基            |      1 |     98 |     97 | 2.12%        |\n",
      "|  5 | 美林            |    202 |    282 |     80 | 1.75%        |\n",
      "|  6 | 凱基-台北       |    132 |    193 |     61 | 1.33%        |\n",
      "|  7 | 香港上海匯豐    |      0 |     58 |     58 | 1.27%        |\n",
      "|  8 | (牛牛牛)亞-網路 |      0 |     50 |     50 | 1.09%        |\n",
      "|  9 | 元大-南投       |      0 |     40 |     40 | 0.88%        |\n",
      "| 10 | 大慶-泰山       |      0 |     35 |     35 | 0.77%        |\n",
      "| 11 | 康和-嘉義       |      1 |     32 |     31 | 0.68%        |\n",
      "| 12 | 富隆-長安       |      0 |     30 |     30 | 0.66%        |\n",
      "| 13 | 富邦-敦南       |      5 |     35 |     30 | 0.66%        |\n",
      "| 14 | 元大-台中       |      0 |     30 |     30 | 0.66%        |\n",
      "| 15 | 國泰-高雄       |      4 |     30 |     26 | 0.57%        |\n",
      "+----+-----------------+--------+--------+--------+--------------+\n"
     ]
    }
   ],
   "source": [
    "print(date+\"\\n\"+stock_number+\"主力進出明細\")\n",
    "buy_df.to_csv(date+\"買超券商.csv\", encoding='big5')\n",
    "sale_df.to_csv(date+\"賣超券商.csv\", encoding='big5')\n",
    "\n",
    "print(\"主力買超\")\n",
    "print(tabulate(buy_df,headers='keys',tablefmt='psql'))\n",
    "print(\"主力賣超\")\n",
    "print(tabulate(sale_df,headers='keys',tablefmt='psql'))"
   ]
  },
  {
   "cell_type": "code",
   "execution_count": null,
   "metadata": {},
   "outputs": [],
   "source": []
  }
 ],
 "metadata": {
  "interpreter": {
   "hash": "4617e2f938c58cce04089e6cfece455e3dab2db4f3f92c1b0f9792c6c6d95434"
  },
  "kernelspec": {
   "display_name": "Python 3.9.6 64-bit",
   "language": "python",
   "name": "python3"
  },
  "language_info": {
   "codemirror_mode": {
    "name": "ipython",
    "version": 3
   },
   "file_extension": ".py",
   "mimetype": "text/x-python",
   "name": "python",
   "nbconvert_exporter": "python",
   "pygments_lexer": "ipython3",
   "version": "3.9.6"
  },
  "orig_nbformat": 4
 },
 "nbformat": 4,
 "nbformat_minor": 2
}
