{
 "cells": [
  {
   "cell_type": "markdown",
   "metadata": {},
   "source": [
    "# M11007309 鄭維新\n",
    " 該程式使用爬蟲將外資買賣超排行前20的資料抓取下來，而且可以讓使用者挑選上市上櫃以及天數\n"
   ]
  },
  {
   "cell_type": "code",
   "execution_count": 1,
   "metadata": {},
   "outputs": [],
   "source": [
    "from bs4 import BeautifulSoup\n",
    "import requests\n",
    "import numpy as np\n",
    "import pandas as pd\n",
    "from tabulate import tabulate\n"
   ]
  },
  {
   "cell_type": "code",
   "execution_count": 13,
   "metadata": {},
   "outputs": [
    {
     "name": "stdout",
     "output_type": "stream",
     "text": [
      "input category ( 上市：0 / 上櫃：1 )\n",
      "input date ( 天數 : 1, 5, 10 )\n",
      "input rank ( 排行數量 最大50筆 )\n"
     ]
    }
   ],
   "source": [
    "# 外資買賣超排行\n",
    "print(\"input category ( 上市：0 / 上櫃：1 )\")\n",
    "category = input()  # 上市(0)/上櫃(1)\n",
    "print(\"input date ( 天數 : 1, 5, 10 )\")\n",
    "day = input()  # 天數 EX 1 5 10\n",
    "print(\"input rank ( 排行數量 最大50筆 )\")\n",
    "rank = input()"
   ]
  },
  {
   "cell_type": "code",
   "execution_count": 14,
   "metadata": {},
   "outputs": [],
   "source": [
    "response = requests.get(\n",
    "    \"http://fubon-ebrokerdj.fbs.com.tw/z/zg/zgk.djhtm?A=D&B=\"+category+\"&C=\"+day)"
   ]
  },
  {
   "cell_type": "code",
   "execution_count": 22,
   "metadata": {},
   "outputs": [],
   "source": [
    "soup = BeautifulSoup(response.content.decode('big5', 'ignore'), \"html.parser\")\n",
    "stock_name = soup.find_all('td', {'class': 't3t1'}, limit=int(rank)*2)\n",
    "stock_price = soup.find_all('td', {'class': 't3n1'}, limit=int(rank)*5)\n",
    "dd = soup.find_all('div', {'class': 't11'})"
   ]
  },
  {
   "cell_type": "code",
   "execution_count": 23,
   "metadata": {},
   "outputs": [],
   "source": [
    "for x in dd:\n",
    "    date = x.getText()[3:]\n",
    "date = date.replace(\"/\", \"_\")"
   ]
  },
  {
   "cell_type": "code",
   "execution_count": 24,
   "metadata": {},
   "outputs": [],
   "source": [
    "buy = {}\n",
    "sale = {}\n",
    "i = 0\n",
    "for x in range(1,int(rank)+1):\n",
    "    buy[x] = []\n",
    "    sale[x] = []"
   ]
  },
  {
   "cell_type": "code",
   "execution_count": 25,
   "metadata": {},
   "outputs": [],
   "source": [
    "i = 0\n",
    "j = 1\n",
    "for x in stock_name:\n",
    "    name = x.getText()\n",
    "    if(i%2 == 0):\n",
    "        buy[j].append(name)\n",
    "    else:\n",
    "        sale[j].append(name)\n",
    "        j+=1\n",
    "    i+=1"
   ]
  },
  {
   "cell_type": "code",
   "execution_count": 26,
   "metadata": {},
   "outputs": [],
   "source": [
    "i = 0\n",
    "j = 1\n",
    "for x in stock_price:\n",
    "    price = x.getText()\n",
    "    if(price != \"0\"):\n",
    "        if(i <= 1):\n",
    "            buy[j].append(price)\n",
    "        else:\n",
    "            sale[j].append(price)\n",
    "        if(i == 3):\n",
    "            j += 1\n",
    "            i = 0\n",
    "        else: \n",
    "            i+=1\n",
    "    if(j == int(rank)+1):\n",
    "        break"
   ]
  },
  {
   "cell_type": "code",
   "execution_count": 27,
   "metadata": {},
   "outputs": [],
   "source": [
    "buy_df = pd.DataFrame.from_dict(\n",
    "    buy, orient='index', columns=['名稱', '張數', '收盤價'])\n",
    "sale_df = pd.DataFrame.from_dict(sale, orient='index', columns=[\n",
    "                                 '名稱', '張數', '收盤價'])"
   ]
  },
  {
   "cell_type": "code",
   "execution_count": 28,
   "metadata": {},
   "outputs": [
    {
     "name": "stdout",
     "output_type": "stream",
     "text": [
      "11_15上市外資買賣超排行5日排行\n",
      "買超排行\n",
      "+----+------------------+---------+----------+\n",
      "|    | 名稱             | 張數    |   收盤價 |\n",
      "|----+------------------+---------+----------|\n",
      "|  1 | 2610華航         | 174,758 |    26.4  |\n",
      "|  2 | 2618長榮航       | 101,926 |    26.75 |\n",
      "|  3 | 2884玉山金       | 71,924  |    27.95 |\n",
      "|  4 | 2337旺宏         | 34,685  |    42.85 |\n",
      "|  5 | 2883開發金       | 29,079  |    15.6  |\n",
      "|  6 | 2890永豐金       | 26,873  |    14.7  |\n",
      "|  7 | 2330台積電       | 23,184  |   608    |\n",
      "|  8 | 00881國泰台灣5G+ | 21,974  |    18.16 |\n",
      "|  9 | 2888新光金       | 21,509  |    10.1  |\n",
      "| 10 | 2436偉詮電       | 21,348  |   108    |\n",
      "| 11 | 2303聯電         | 20,857  |    63.4  |\n",
      "| 12 | 1709和益         | 15,554  |    22.8  |\n",
      "| 13 | 0050元大台灣50   | 13,372  |   140.95 |\n",
      "| 14 | 1605華新         | 12,441  |    27.5  |\n",
      "| 15 | 4960誠美材       | 12,343  |    12.6  |\n",
      "| 16 | 2344華邦電       | 12,270  |    30.15 |\n",
      "| 17 | 0056元大高股息   | 11,933  |    32.43 |\n",
      "| 18 | 2882國泰金       | 11,653  |    59.7  |\n",
      "| 19 | 2887台新金       | 11,311  |    18.55 |\n",
      "| 20 | 2382廣達         | 10,417  |    86    |\n",
      "| 21 | 2449京元電子     | 9,462   |    42.15 |\n",
      "| 22 | 2886兆豐金       | 8,625   |    33.95 |\n",
      "| 23 | 2317鴻海         | 7,965   |   108    |\n",
      "| 24 | 2356英業達       | 7,877   |    26.65 |\n",
      "| 25 | 2368金像電       | 7,866   |    77.1  |\n",
      "| 26 | 2377微星         | 7,737   |   161    |\n",
      "| 27 | 4927泰鼎-KY      | 7,716   |   103.5  |\n",
      "| 28 | 2312金寶         | 7,192   |    14.2  |\n",
      "| 29 | 2891中信金       | 7,113   |    24    |\n",
      "| 30 | 1718中纖         | 6,972   |    10.2  |\n",
      "+----+------------------+---------+----------+\n",
      "賣超排行\n",
      "+----+-----------------------+---------+----------+\n",
      "|    | 名稱                  | 張數    |   收盤價 |\n",
      "|----+-----------------------+---------+----------|\n",
      "|  1 | 3481群創              | -87,120 |    17.2  |\n",
      "|  2 | 2324仁寶              | -36,602 |    23.7  |\n",
      "|  3 | 2014中鴻              | -35,043 |    34.75 |\n",
      "|  4 | 1802台玻              | -33,531 |    27.5  |\n",
      "|  5 | 2603長榮              | -33,109 |   112    |\n",
      "|  6 | 2340光磊              | -25,141 |    45    |\n",
      "|  7 | 2002中鋼              | -23,289 |    33.65 |\n",
      "|  8 | 2409友達              | -23,172 |    20.3  |\n",
      "|  9 | 00882中信中國高股息   | -20,094 |    13.71 |\n",
      "| 10 | 2023燁輝              | -19,411 |    25.25 |\n",
      "| 11 | 1305華夏              | -17,192 |    35.5  |\n",
      "| 12 | 1216統一              | -16,101 |    68    |\n",
      "| 13 | 3711日月光投控        | -14,558 |   105.5  |\n",
      "| 14 | 8150南茂              | -14,219 |    47.15 |\n",
      "| 15 | 00715L期街口布蘭特正2 | -13,817 |    11.17 |\n",
      "| 16 | 1711永光              | -12,914 |    28.05 |\n",
      "| 17 | 2498宏達電            | -12,041 |    90.9  |\n",
      "| 18 | 2609陽明              | -11,994 |   105    |\n",
      "| 19 | 2352佳世達            | -11,675 |    31.2  |\n",
      "| 20 | 2881富邦金            | -11,394 |    74    |\n",
      "| 21 | 1308亞聚              | -9,830  |    38.25 |\n",
      "| 22 | 2615萬海              | -9,653  |   157    |\n",
      "| 23 | 00893國泰智能電動車   | -9,053  |    17.63 |\n",
      "| 24 | 2030彰源              | -7,967  |    30.55 |\n",
      "| 25 | 9945潤泰新            | -7,920  |    69    |\n",
      "| 26 | 1609大亞              | -7,722  |    25    |\n",
      "| 27 | 1314中石化            | -7,298  |    13.05 |\n",
      "| 28 | 2617台航              | -6,849  |    36.25 |\n",
      "| 29 | 2331精英              | -6,705  |    21.3  |\n",
      "| 30 | 2481強茂              | -6,582  |   100.5  |\n",
      "+----+-----------------------+---------+----------+\n"
     ]
    }
   ],
   "source": [
    "if(category == \"0\"):\n",
    "    print(date+\"上市外資買賣超排行\"+day+\"日排行\")\n",
    "    buy_df.to_csv(date+\"上市外資買超排行\"+day+\"日排行.csv\", encoding='big5')\n",
    "    sale_df.to_csv(date+\"上市外資賣超排行\"+day+\"日排行.csv\", encoding='big5')\n",
    "\n",
    "else:\n",
    "    print(date+\"上櫃外資買賣超排行\"+day+\"日排行\")\n",
    "    buy_df.to_csv(date+\"上櫃外資買超排行\"+day+\"日排行.csv\", encoding='big5')\n",
    "    sale_df.to_csv(date+\"上櫃外資賣超排行\"+day+\"日排行.csv\", encoding='big5')\n",
    "\n",
    "print(\"買超排行\")\n",
    "print(tabulate(buy_df,headers='keys',tablefmt='psql'))\n",
    "print(\"賣超排行\")\n",
    "print(tabulate(sale_df,headers='keys',tablefmt='psql'))"
   ]
  },
  {
   "cell_type": "code",
   "execution_count": null,
   "metadata": {},
   "outputs": [],
   "source": []
  },
  {
   "cell_type": "code",
   "execution_count": null,
   "metadata": {},
   "outputs": [],
   "source": []
  }
 ],
 "metadata": {
  "interpreter": {
   "hash": "4617e2f938c58cce04089e6cfece455e3dab2db4f3f92c1b0f9792c6c6d95434"
  },
  "kernelspec": {
   "display_name": "Python 3.9.6 64-bit",
   "language": "python",
   "name": "python3"
  },
  "language_info": {
   "codemirror_mode": {
    "name": "ipython",
    "version": 3
   },
   "file_extension": ".py",
   "mimetype": "text/x-python",
   "name": "python",
   "nbconvert_exporter": "python",
   "pygments_lexer": "ipython3",
   "version": "3.9.6"
  },
  "orig_nbformat": 4
 },
 "nbformat": 4,
 "nbformat_minor": 2
}
