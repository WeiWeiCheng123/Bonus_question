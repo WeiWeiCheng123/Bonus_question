{
 "cells": [
  {
   "cell_type": "code",
   "execution_count": 64,
   "source": [
    "player1 = []\r\n",
    "player2 = []\r\n",
    "player3 = []\r\n",
    "player4 = []"
   ],
   "outputs": [],
   "metadata": {}
  },
  {
   "cell_type": "code",
   "execution_count": 65,
   "source": [
    "poker_card=[]\r\n",
    "suit = [\"◆\",\"♥\",\"♠\" ,\"♣\"] #花色\r\n",
    "rank=[\"A\",\"2\",\"3\",\"4\",\"5\",\"6\",\"7\",\"8\",\"9\",\"10\",\"J\",\"Q\",\"K\"]\r\n",
    "for i in suit:\r\n",
    "    for j in rank:\r\n",
    "        poker_card.append(i+j)\r\n",
    "\r\n",
    "shuffle_poker = poker_card"
   ],
   "outputs": [],
   "metadata": {}
  },
  {
   "cell_type": "code",
   "execution_count": 66,
   "source": [
    "import random\r\n",
    "random.shuffle(shuffle_poker)\r\n",
    "print(shuffle_poker)"
   ],
   "outputs": [
    {
     "output_type": "stream",
     "name": "stdout",
     "text": [
      "['◆9', '♠9', '♣6', '◆4', '♠K', '◆6', '♥7', '♠4', '◆K', '♣Q', '♥K', '◆5', '♣3', '◆J', '♣10', '♥9', '♣4', '♠3', '◆8', '♠10', '♥2', '♣2', '♣8', '♠8', '♥8', '◆Q', '♠A', '♣A', '◆10', '♥6', '♠5', '♠Q', '♥Q', '♣9', '♥A', '♠6', '♥5', '♠7', '♣J', '♣K', '♥J', '◆3', '♠J', '♥3', '◆2', '♠2', '◆A', '♥4', '♣7', '◆7', '♣5', '♥10']\n"
     ]
    }
   ],
   "metadata": {}
  },
  {
   "cell_type": "code",
   "execution_count": 67,
   "source": [
    "while len(shuffle_poker) > 0:\r\n",
    "    player1.append(shuffle_poker.pop())\r\n",
    "    player2.append(shuffle_poker.pop())\r\n",
    "    player3.append(shuffle_poker.pop())\r\n",
    "    player4.append(shuffle_poker.pop())"
   ],
   "outputs": [],
   "metadata": {}
  },
  {
   "cell_type": "code",
   "execution_count": 68,
   "source": [
    "print(player1)\r\n",
    "print(player2)\r\n",
    "print(player3)\r\n",
    "print(player4)"
   ],
   "outputs": [
    {
     "output_type": "stream",
     "name": "stdout",
     "text": [
      "['♥10', '♥4', '♥3', '♣K', '♠6', '♠Q', '♣A', '♠8', '♠10', '♥9', '◆5', '♠4', '◆4']\n",
      "['♣5', '◆A', '♠J', '♣J', '♥A', '♠5', '♠A', '♣8', '◆8', '♣10', '♥K', '♥7', '♣6']\n",
      "['◆7', '♠2', '◆3', '♠7', '♣9', '♥6', '◆Q', '♣2', '♠3', '◆J', '♣Q', '◆6', '♠9']\n",
      "['♣7', '◆2', '♥J', '♥5', '♥Q', '◆10', '♥8', '♥2', '♣4', '♣3', '◆K', '♠K', '◆9']\n"
     ]
    }
   ],
   "metadata": {}
  }
 ],
 "metadata": {
  "orig_nbformat": 4,
  "language_info": {
   "name": "python",
   "version": "3.9.7",
   "mimetype": "text/x-python",
   "codemirror_mode": {
    "name": "ipython",
    "version": 3
   },
   "pygments_lexer": "ipython3",
   "nbconvert_exporter": "python",
   "file_extension": ".py"
  },
  "kernelspec": {
   "name": "python3",
   "display_name": "Python 3.9.7 64-bit"
  },
  "interpreter": {
   "hash": "4617e2f938c58cce04089e6cfece455e3dab2db4f3f92c1b0f9792c6c6d95434"
  }
 },
 "nbformat": 4,
 "nbformat_minor": 2
}