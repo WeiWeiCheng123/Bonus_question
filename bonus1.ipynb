{
 "cells": [
  {
   "cell_type": "markdown",
   "source": [
    "M11007309 鄭維新\r\n",
    "Bonus1 code\r\n"
   ],
   "metadata": {}
  },
  {
   "cell_type": "code",
   "execution_count": 104,
   "source": [
    "player = {\"player1\":[],\"player2\":[],\"player3\":[],\"player4\":[]} #Use dict to store players and cards\r\n",
    "poker_card=[]"
   ],
   "outputs": [],
   "metadata": {}
  },
  {
   "cell_type": "code",
   "execution_count": 105,
   "source": [
    "#Creat a poker list\r\n",
    "poker_card=[]\r\n",
    "suit = [\"◆\",\"♥\",\"♠\" ,\"♣\"]\r\n",
    "rank=[\"A\",\"2\",\"3\",\"4\",\"5\",\"6\",\"7\",\"8\",\"9\",\"10\",\"J\",\"Q\",\"K\"]\r\n",
    "for i in suit:\r\n",
    "    for j in rank:\r\n",
    "        poker_card.append(i+j)\r\n",
    "        \r\n",
    "        \r\n",
    "shuffle_poker = poker_card.copy()"
   ],
   "outputs": [],
   "metadata": {}
  },
  {
   "cell_type": "code",
   "execution_count": 106,
   "source": [
    "#shuffle poker\r\n",
    "import random\r\n",
    "random.shuffle(shuffle_poker)\r\n",
    "print(shuffle_poker)"
   ],
   "outputs": [
    {
     "output_type": "stream",
     "name": "stdout",
     "text": [
      "['◆3', '♥J', '♠2', '◆4', '♣9', '◆8', '♣3', '♥5', '◆9', '♣7', '♠5', '◆J', '♥7', '♣Q', '♣10', '♥6', '♠J', '◆K', '♠10', '♥10', '♠Q', '♠A', '♣A', '◆Q', '♣8', '◆6', '♠7', '♠9', '♠4', '♠8', '♠6', '♥4', '♥Q', '♥2', '◆2', '♠3', '◆10', '♥A', '♣J', '♠K', '◆7', '♥3', '♥8', '♣2', '♥K', '◆5', '♣K', '♣6', '◆A', '♣5', '♣4', '♥9']\n"
     ]
    }
   ],
   "metadata": {}
  },
  {
   "cell_type": "code",
   "execution_count": 107,
   "source": [
    "while len(shuffle_poker) > 0:\r\n",
    "    for key in player:\r\n",
    "        player[key].append(shuffle_poker.pop())"
   ],
   "outputs": [],
   "metadata": {}
  },
  {
   "cell_type": "code",
   "execution_count": 108,
   "source": [
    "for key in player:\r\n",
    "    print(key)\r\n",
    "    print(player[key])"
   ],
   "outputs": [
    {
     "output_type": "stream",
     "name": "stdout",
     "text": [
      "player1\n",
      "['♥9', '♣6', '♣2', '♠K', '♠3', '♥4', '♠9', '◆Q', '♥10', '♥6', '◆J', '♥5', '◆4']\n",
      "player2\n",
      "['♣4', '♣K', '♥8', '♣J', '◆2', '♠6', '♠7', '♣A', '♠10', '♣10', '♠5', '♣3', '♠2']\n",
      "player3\n",
      "['♣5', '◆5', '♥3', '♥A', '♥2', '♠8', '◆6', '♠A', '◆K', '♣Q', '♣7', '◆8', '♥J']\n",
      "player4\n",
      "['◆A', '♥K', '◆7', '◆10', '♥Q', '♠4', '♣8', '♠Q', '♠J', '♥7', '◆9', '♣9', '◆3']\n"
     ]
    }
   ],
   "metadata": {}
  }
 ],
 "metadata": {
  "orig_nbformat": 4,
  "language_info": {
   "name": "python",
   "version": "3.9.7",
   "mimetype": "text/x-python",
   "codemirror_mode": {
    "name": "ipython",
    "version": 3
   },
   "pygments_lexer": "ipython3",
   "nbconvert_exporter": "python",
   "file_extension": ".py"
  },
  "kernelspec": {
   "name": "python3",
   "display_name": "Python 3.9.7 64-bit"
  },
  "interpreter": {
   "hash": "4617e2f938c58cce04089e6cfece455e3dab2db4f3f92c1b0f9792c6c6d95434"
  }
 },
 "nbformat": 4,
 "nbformat_minor": 2
}