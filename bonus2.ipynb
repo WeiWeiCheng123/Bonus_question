{
 "cells": [
  {
   "cell_type": "code",
   "execution_count": 144,
   "source": [
    "import smtplib\r\n",
    "from email.message import EmailMessage\r\n",
    "from email.headerregistry import Address\r\n",
    "from email.utils import make_msgid\r\n",
    "from email.mime.text import MIMEText"
   ],
   "outputs": [],
   "metadata": {}
  },
  {
   "cell_type": "code",
   "execution_count": 145,
   "source": [
    "professor_email={\r\n",
    "    \"吳啟瑞\" : \"wxyz41055@gmail.com\",\r\n",
    "    \"張宏展\" : \"wxyz41055@gmail.com\",\r\n",
    "    \"辜志承\" : \"wxyz41055@gmail.com\",\r\n",
    "    \"郭政謙\" : \"wxyz41055@gmail.com\",\r\n",
    "    \"連國龍\" : \"wxyz41055@gmail.com\",\r\n",
    "    \"郭明哲\" : \"wxyz41055@gmail.com\",\r\n",
    "    \"楊念哲\" : \"wxyz41055@gmail.com\",\r\n",
    "    \"張建國\" : \"wxyz41055@gmail.com\",    \r\n",
    "    \"陳坤隆\" : \"wxyz41055@gmail.com\",\r\n",
    "    \"劉添華\" : \"wxyz41055@gmail.com\",\r\n",
    "    \"劉益華\" : \"wxyz41055@gmail.com\",\r\n",
    "    \"楊宗銘\" : \"wxyz41055@gmail.com\",    \r\n",
    "    \"黃仲欽\" : \"wxyz41055@gmail.com\",\r\n",
    "    \"林長華\" : \"wxyz41055@gmail.com\",\r\n",
    "    \"蘇順豐\" : \"wxyz41055@gmail.com\",\r\n",
    "    \"鍾聖倫\" : \"wxyz41055@gmail.com\",\r\n",
    "    \"郭景明\" : \"wxyz41055@gmail.com\",    \r\n",
    "    \"沈哲州\" : \"wxyz41055@gmail.com\",\r\n",
    "    \"黃騰毅\" : \"wxyz41055@gmail.com\",\r\n",
    "    \"陳建中\" : \"wxyz41055@gmail.com\",\r\n",
    "    \"陸敬互\" : \"wxyz41055@gmail.com\",\r\n",
    "    \"施慶隆\" : \"wxyz41055@gmail.com\",\r\n",
    "    \"黃志良\" : \"wxyz41055@gmail.com\",\r\n",
    "    \"呂學坤\" : \"wxyz41055@gmail.com\",\r\n",
    "    \"姚嘉瑜\" : \"wxyz41055@gmail.com\",\r\n",
    "    \"陳雅淑\" : \"wxyz41055@gmail.com\",\r\n",
    "    \"陳筱青\" : \"wxyz41055@gmail.com\",\r\n",
    "    \"王乃堅\" : \"wxyz41055@gmail.com\",\r\n",
    "    \"方劭云\" : \"wxyz41055@gmail.com\",    \r\n",
    "    \"陳勇志\" : \"wxyz41055@gmail.com\",\r\n",
    "    \"黎碧煌\" : \"wxyz41055@gmail.com\",\r\n",
    "    \"陳俊良\" : \"wxyz41055@gmail.com\",\r\n",
    "    \"馬奕葳\" : \"wxyz41055@gmail.com\",    \r\n",
    "    \"楊成發\" : \"wxyz41055@gmail.com\",\r\n",
    "    \"鍾順平\" : \"wxyz41055@gmail.com\",\r\n",
    "    \"馬自莊\" : \"wxyz41055@gmail.com\",\r\n",
    "    \"廖文照\" : \"wxyz41055@gmail.com\",    \r\n",
    "    \"劉馨勤\" : \"wxyz41055@gmail.com\",\r\n",
    "    \"曾德峰\" : \"wxyz41055@gmail.com\",\r\n",
    "    \"張立中\" : \"wxyz41055@gmail.com\",\r\n",
    "    \"郭重顯\" : \"wxyz41055@gmail.com\",\r\n",
    "    \"彭盛裕\" : \"wxyz41055@gmail.com\"\r\n",
    "}\r\n",
    "#先將所有教授的email都設為自己的email"
   ],
   "outputs": [],
   "metadata": {}
  },
  {
   "cell_type": "code",
   "execution_count": 146,
   "source": [
    "questionary = {\r\n",
    "    0:[\"D10307013\",\"侯元昌\",\"電機工程系\",\"廖文照\"],\r\n",
    "    1:[\"D10507003\",\"劉華棟\",\"電機工程系\",\"林長華\"],\r\n",
    "    2:[\"M10512209\",\"葉騰遠\",\"電機工程系\",\"陳建中\"],\r\n",
    "    3:[\"M10604209\",\"侯元昌\",\"電機工程系\",\"施慶隆\"],\r\n",
    "    4:[\"M10607109\",\"許庭彰\",\"電機工程系\",\"辜志承\"],\r\n",
    "    5:[\"M10607129\",\"葉佳明\",\"電機工程系\",\"辜志承\"],\r\n",
    "    6:[\"M10607130\",\"余冠佑\",\"電機工程系\",\"辜志承\"],\r\n",
    "    7:[\"M10607218\",\"曾建銘\",\"電機工程系\",\"劉益華\"],\r\n",
    "    8:[\"M10607219\",\"鄭鴻偉\",\"電機工程系\",\"林長華\"],\r\n",
    "    9:[\"M10607220\",\"黃雅夫\",\"電機工程系\",\"楊宗銘\"],\r\n",
    "    10:[\"M10607301\",\"古昊中\",\"電機工程系\",\"陸敬互\"],\r\n",
    "    11:[\"M10607305\",\"林孝宗\",\"電機工程系\",\"陸敬互\"],\r\n",
    "    12:[\"M10607306\",\"林祐任\",\"電機工程系\",\"郭重顯\"],\r\n",
    "    13:[\"M10607311\",\"賴冠廷\",\"電機工程系\",\"陸敬互\"],\r\n",
    "    14:[\"M10607401\",\"羅祖嘉\",\"電機工程系\",\"彭盛裕\"]\r\n",
    "}\r\n",
    "#本次email要達成的要求\r\n",
    "#學號 學生姓名 系所 教授名稱"
   ],
   "outputs": [],
   "metadata": {}
  },
  {
   "cell_type": "code",
   "execution_count": 147,
   "source": [
    "smtp=smtplib.SMTP(\"smtp.gmail.com\", 587) #用gmail\r\n",
    "smtp.ehlo()\r\n",
    "smtp.starttls()\r\n",
    "smtp.login('wxyz41055@gmail.com','eric4105') #登入信箱"
   ],
   "outputs": [
    {
     "output_type": "execute_result",
     "data": {
      "text/plain": [
       "(235, b'2.7.0 Accepted')"
      ]
     },
     "metadata": {},
     "execution_count": 147
    }
   ],
   "metadata": {}
  },
  {
   "cell_type": "code",
   "execution_count": 148,
   "source": [
    "for  i in questionary:\r\n",
    "    mime=MIMEText(\"\"\"\r\n",
    "    {} 教授您好，\r\n",
    "    學校目前正在進行畢業生流向問卷調查，\r\n",
    "    網站連結如下：\r\n",
    "    https://stuaffairs.ntust.edu.tw/Q_Questionnaire/\r\n",
    "    您有在民國 {} 畢業的學生：{}，\r\n",
    "    學號 {}\r\n",
    "    按學校提供的資料顯示，目前還沒有填寫問卷。\r\n",
    "    也許是該名畢業生已經不使用學校的問卷 email，\r\n",
    "    是否可以請您或是實驗室目前的在校生代為傳答？\r\n",
    "    感謝您的協助！\r\n",
    "    電機系系辦\r\n",
    "    \"\"\".format(questionary[i][3],108,questionary[i][1],questionary[i][0]), \"plain\", \"utf-8\")\r\n",
    "    mime[\"Subject\"]=\"國立臺灣科技大學畢業生流向問卷調查\"\r\n",
    "    mime[\"From\"]='電機系 系辦'\r\n",
    "    msg=mime.as_string()\r\n",
    "\r\n",
    "    from_addr='wei4105@gmail.com' #從哪一個email寄出\r\n",
    "    to_addr = professor_email[questionary[i][3]] #寄給哪一位教授\r\n",
    "    status=smtp.sendmail(from_addr, to_addr, msg)\r\n",
    "    if status=={}:\r\n",
    "        print(\"郵件傳送成功!\")\r\n",
    "    else:\r\n",
    "        print(\"郵件傳送失敗!\")"
   ],
   "outputs": [
    {
     "output_type": "stream",
     "name": "stdout",
     "text": [
      "郵件傳送成功!\n",
      "郵件傳送成功!\n",
      "郵件傳送成功!\n",
      "郵件傳送成功!\n",
      "郵件傳送成功!\n",
      "郵件傳送成功!\n",
      "郵件傳送成功!\n",
      "郵件傳送成功!\n",
      "郵件傳送成功!\n",
      "郵件傳送成功!\n",
      "郵件傳送成功!\n",
      "郵件傳送成功!\n",
      "郵件傳送成功!\n",
      "郵件傳送成功!\n",
      "郵件傳送成功!\n"
     ]
    }
   ],
   "metadata": {}
  }
 ],
 "metadata": {
  "orig_nbformat": 4,
  "language_info": {
   "name": "python",
   "version": "3.9.7",
   "mimetype": "text/x-python",
   "codemirror_mode": {
    "name": "ipython",
    "version": 3
   },
   "pygments_lexer": "ipython3",
   "nbconvert_exporter": "python",
   "file_extension": ".py"
  },
  "kernelspec": {
   "name": "python3",
   "display_name": "Python 3.9.7 64-bit"
  },
  "interpreter": {
   "hash": "4617e2f938c58cce04089e6cfece455e3dab2db4f3f92c1b0f9792c6c6d95434"
  }
 },
 "nbformat": 4,
 "nbformat_minor": 2
}